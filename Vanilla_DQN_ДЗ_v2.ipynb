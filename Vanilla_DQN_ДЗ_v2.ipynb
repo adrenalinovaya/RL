{
  "cells": [
    {
      "cell_type": "markdown",
      "metadata": {
        "id": "view-in-github",
        "colab_type": "text"
      },
      "source": [
        "<a href=\"https://colab.research.google.com/github/adrenalinovaya/RL/blob/main/Vanilla_DQN_%D0%94%D0%97_v2.ipynb\" target=\"_parent\"><img src=\"https://colab.research.google.com/assets/colab-badge.svg\" alt=\"Open In Colab\"/></a>"
      ]
    },
    {
      "cell_type": "markdown",
      "metadata": {
        "id": "da4rwTlbDaAB"
      },
      "source": [
        "# LunarLander with DQN algorithm + TargetQ + ReplayBuffer\n",
        "\n",
        "Этот пример демонстрирует применение алгоритма DQN для задачи обучения агента на среде CartPole-v1 из пакета Gymnasium на базе PyTorch.\n",
        "\n",
        "Original link: https://pytorch.org/tutorials/intermediate/reinforcement_q_learning.html#dqn-algorithm"
      ]
    },
    {
      "cell_type": "markdown",
      "metadata": {
        "ExecuteTime": {
          "end_time": "2023-08-16T09:28:13.323718Z",
          "start_time": "2023-08-16T09:28:13.317541Z"
        },
        "id": "tSllweEDDaAC"
      },
      "source": [
        "## Imports"
      ]
    },
    {
      "cell_type": "code",
      "source": [
        "# @title установка драйверов\n",
        "!apt-get update > /dev/null 2>&1\n",
        "!apt-get install -y xvfb python-opengl ffmpeg > /dev/null 2>&1\n",
        "!apt-get install -y swig build-essential python-dev python3-dev > /dev/null 2>&1\n",
        "!apt-get install x11-utils > /dev/null 2>&1\n",
        "!apt-get install xvfb > /dev/null 2>&1"
      ],
      "metadata": {
        "id": "w5spfOvIdYeh"
      },
      "execution_count": 1,
      "outputs": []
    },
    {
      "cell_type": "code",
      "source": [
        "# @title установка библиотек\n",
        "!pip install rarfile --quiet\n",
        "!pip install stable-baselines3[extra] --quiet\n",
        "!pip install ale-py --quiet\n",
        "!pip install gym[box2d] --quiet\n",
        "!pip install pyvirtualdisplay --quiet\n",
        "!pip install pyglet --quiet\n",
        "!pip install pygame --quiet\n",
        "!pip install minigrid --quiet\n",
        "!pip install -q swig --quiet\n",
        "!pip install -q gymnasium[box2d] --quiet\n",
        "!pip install 'minigrid<=2.1.1' --quiet\n",
        "!pip3 install box2d-py --quiet"
      ],
      "metadata": {
        "colab": {
          "base_uri": "https://localhost:8080/"
        },
        "id": "W7ouKdu8dasX",
        "outputId": "f42768cd-cebc-43b1-ad17-fe917d0309cf"
      },
      "execution_count": 2,
      "outputs": [
        {
          "output_type": "stream",
          "name": "stdout",
          "text": [
            "\u001b[?25l     \u001b[90m━━━━━━━━━━━━━━━━━━━━━━━━━━━━━━━━━━━━━━━━\u001b[0m \u001b[32m0.0/434.7 kB\u001b[0m \u001b[31m?\u001b[0m eta \u001b[36m-:--:--\u001b[0m\r\u001b[2K     \u001b[91m━━━━━━━━━━━━━━━━━━━━━━━━━━━━━━━━━━━━━━━\u001b[0m\u001b[91m╸\u001b[0m \u001b[32m430.1/434.7 kB\u001b[0m \u001b[31m18.3 MB/s\u001b[0m eta \u001b[36m0:00:01\u001b[0m\r\u001b[2K     \u001b[90m━━━━━━━━━━━━━━━━━━━━━━━━━━━━━━━━━━━━━━━━\u001b[0m \u001b[32m434.7/434.7 kB\u001b[0m \u001b[31m11.7 MB/s\u001b[0m eta \u001b[36m0:00:00\u001b[0m\n",
            "\u001b[?25h  Installing build dependencies ... \u001b[?25l\u001b[?25hdone\n",
            "  Getting requirements to build wheel ... \u001b[?25l\u001b[?25hdone\n",
            "  Preparing metadata (pyproject.toml) ... \u001b[?25l\u001b[?25hdone\n",
            "\u001b[2K   \u001b[90m━━━━━━━━━━━━━━━━━━━━━━━━━━━━━━━━━━━━━━━━\u001b[0m \u001b[32m953.9/953.9 kB\u001b[0m \u001b[31m39.3 MB/s\u001b[0m eta \u001b[36m0:00:00\u001b[0m\n",
            "\u001b[2K   \u001b[90m━━━━━━━━━━━━━━━━━━━━━━━━━━━━━━━━━━━━━━━━\u001b[0m \u001b[32m182.3/182.3 kB\u001b[0m \u001b[31m13.8 MB/s\u001b[0m eta \u001b[36m0:00:00\u001b[0m\n",
            "\u001b[2K   \u001b[90m━━━━━━━━━━━━━━━━━━━━━━━━━━━━━━━━━━━━━━━━\u001b[0m \u001b[32m1.7/1.7 MB\u001b[0m \u001b[31m43.7 MB/s\u001b[0m eta \u001b[36m0:00:00\u001b[0m\n",
            "\u001b[2K   \u001b[90m━━━━━━━━━━━━━━━━━━━━━━━━━━━━━━━━━━━━━━━━\u001b[0m \u001b[32m19.7/19.7 MB\u001b[0m \u001b[31m14.4 MB/s\u001b[0m eta \u001b[36m0:00:00\u001b[0m\n",
            "\u001b[?25h  Building wheel for AutoROM.accept-rom-license (pyproject.toml) ... \u001b[?25l\u001b[?25hdone\n",
            "\u001b[2K     \u001b[90m━━━━━━━━━━━━━━━━━━━━━━━━━━━━━━━━━━━━━━━━\u001b[0m \u001b[32m374.4/374.4 kB\u001b[0m \u001b[31m9.6 MB/s\u001b[0m eta \u001b[36m0:00:00\u001b[0m\n",
            "\u001b[?25h  Preparing metadata (setup.py) ... \u001b[?25l\u001b[?25hdone\n",
            "\u001b[2K   \u001b[90m━━━━━━━━━━━━━━━━━━━━━━━━━━━━━━━━━━━━━━━━\u001b[0m \u001b[32m18.3/18.3 MB\u001b[0m \u001b[31m97.0 MB/s\u001b[0m eta \u001b[36m0:00:00\u001b[0m\n",
            "\u001b[2K   \u001b[90m━━━━━━━━━━━━━━━━━━━━━━━━━━━━━━━━━━━━━━━━\u001b[0m \u001b[32m1.9/1.9 MB\u001b[0m \u001b[31m71.1 MB/s\u001b[0m eta \u001b[36m0:00:00\u001b[0m\n",
            "\u001b[?25h  \u001b[1;31merror\u001b[0m: \u001b[1msubprocess-exited-with-error\u001b[0m\n",
            "  \n",
            "  \u001b[31m×\u001b[0m \u001b[32mpython setup.py bdist_wheel\u001b[0m did not run successfully.\n",
            "  \u001b[31m│\u001b[0m exit code: \u001b[1;36m1\u001b[0m\n",
            "  \u001b[31m╰─>\u001b[0m See above for output.\n",
            "  \n",
            "  \u001b[1;35mnote\u001b[0m: This error originates from a subprocess, and is likely not a problem with pip.\n",
            "  Building wheel for box2d-py (setup.py) ... \u001b[?25lerror\n",
            "\u001b[31m  ERROR: Failed building wheel for box2d-py\u001b[0m\u001b[31m\n",
            "\u001b[0m\u001b[31mERROR: ERROR: Failed to build installable wheels for some pyproject.toml based projects (box2d-py)\u001b[0m\u001b[31m\n",
            "\u001b[2K   \u001b[90m━━━━━━━━━━━━━━━━━━━━━━━━━━━━━━━━━━━━━━━━\u001b[0m \u001b[32m936.6/936.6 kB\u001b[0m \u001b[31m13.8 MB/s\u001b[0m eta \u001b[36m0:00:00\u001b[0m\n",
            "\u001b[2K   \u001b[90m━━━━━━━━━━━━━━━━━━━━━━━━━━━━━━━━━━━━━━━━\u001b[0m \u001b[32m103.8/103.8 kB\u001b[0m \u001b[31m3.2 MB/s\u001b[0m eta \u001b[36m0:00:00\u001b[0m\n",
            "\u001b[?25h  Preparing metadata (setup.py) ... \u001b[?25l\u001b[?25hdone\n",
            "  Building wheel for box2d-py (setup.py) ... \u001b[?25l\u001b[?25hdone\n",
            "\u001b[2K   \u001b[90m━━━━━━━━━━━━━━━━━━━━━━━━━━━━━━━━━━━━━━━━\u001b[0m \u001b[32m100.3/100.3 kB\u001b[0m \u001b[31m3.4 MB/s\u001b[0m eta \u001b[36m0:00:00\u001b[0m\n",
            "\u001b[?25h"
          ]
        }
      ]
    },
    {
      "cell_type": "code",
      "source": [
        "# Imports\n",
        "import io\n",
        "import os\n",
        "import glob\n",
        "import torch\n",
        "import base64\n",
        "\n",
        "import numpy as np\n",
        "import matplotlib.pyplot as plt\n",
        "\n",
        "import sys\n",
        "import gymnasium\n",
        "sys.modules[\"gym\"] = gymnasium\n",
        "\n",
        "import stable_baselines3\n",
        "from stable_baselines3 import DQN\n",
        "from stable_baselines3.common.results_plotter import ts2xy, load_results\n",
        "from stable_baselines3.common.callbacks import EvalCallback\n",
        "from stable_baselines3.common.env_util import make_atari_env\n",
        "\n",
        "import gymnasium as gym\n",
        "from gym import spaces\n",
        "from gym.envs.box2d.lunar_lander import *\n",
        "from gym.wrappers.monitoring.video_recorder import VideoRecorder\n",
        "import math\n",
        "import random\n",
        "import matplotlib\n",
        "import matplotlib.pyplot as plt\n",
        "from collections import namedtuple, deque\n",
        "from itertools import count\n",
        "import numpy as np\n",
        "from tqdm import tqdm\n",
        "\n",
        "import torch\n",
        "import torch.nn as nn\n",
        "import torch.optim as optim\n",
        "import torch.nn.functional as F\n",
        "from torch.distributions import Normal\n",
        "from gym.envs.box2d.lunar_lander import *\n",
        "from gym.wrappers.monitoring.video_recorder import VideoRecorder\n",
        "from gym.envs.box2d.lunar_lander import *\n",
        "import stable_baselines3\n",
        "from stable_baselines3 import DQN\n",
        "from stable_baselines3.common.results_plotter import ts2xy, load_results\n",
        "from stable_baselines3.common.callbacks import EvalCallback\n",
        "from stable_baselines3.common.env_util import make_atari_env\n",
        "\n",
        "device = torch.device(\"cuda\" if torch.cuda.is_available() else \"cpu\")"
      ],
      "metadata": {
        "id": "wkpLJ5YM-Dgz"
      },
      "execution_count": 3,
      "outputs": []
    },
    {
      "cell_type": "code",
      "source": [
        "import warnings\n",
        "warnings.simplefilter(\"ignore\")"
      ],
      "metadata": {
        "id": "p9n4oACeUFRE",
        "colab": {
          "base_uri": "https://localhost:8080/"
        },
        "outputId": "80dbf658-b7bf-4baa-b313-96e5b9933faf"
      },
      "execution_count": 4,
      "outputs": [
        {
          "output_type": "stream",
          "name": "stderr",
          "text": [
            "/usr/local/lib/python3.10/dist-packages/ipykernel/ipkernel.py:283: DeprecationWarning: `should_run_async` will not call `transform_cell` automatically in the future. Please pass the result to `transformed_cell` argument and any exception that happen during thetransform in `preprocessing_exc_tuple` in IPython 7.17 and above.\n",
            "  and should_run_async(code)\n"
          ]
        }
      ]
    },
    {
      "cell_type": "code",
      "execution_count": 5,
      "metadata": {
        "ExecuteTime": {
          "end_time": "2023-08-16T15:47:47.679542Z",
          "start_time": "2023-08-16T15:47:47.672382Z"
        },
        "colab": {
          "base_uri": "https://localhost:8080/",
          "height": 36
        },
        "id": "Qmk75XSSDaAD",
        "outputId": "8bf669fb-802c-4df8-8458-5c4f2dc431f4"
      },
      "outputs": [
        {
          "output_type": "execute_result",
          "data": {
            "text/plain": [
              "'2.3.1+cu121'"
            ],
            "application/vnd.google.colaboratory.intrinsic+json": {
              "type": "string"
            }
          },
          "metadata": {},
          "execution_count": 5
        }
      ],
      "source": [
        "torch.__version__"
      ]
    },
    {
      "cell_type": "code",
      "execution_count": 6,
      "metadata": {
        "colab": {
          "base_uri": "https://localhost:8080/",
          "height": 36
        },
        "id": "kZBzjkBIDaAD",
        "outputId": "a10142d7-6ed6-4e98-8509-18fbdc6fee99"
      },
      "outputs": [
        {
          "output_type": "execute_result",
          "data": {
            "text/plain": [
              "'0.29.1'"
            ],
            "application/vnd.google.colaboratory.intrinsic+json": {
              "type": "string"
            }
          },
          "metadata": {},
          "execution_count": 6
        }
      ],
      "source": [
        "gym.__version__"
      ]
    },
    {
      "cell_type": "code",
      "execution_count": 7,
      "metadata": {
        "ExecuteTime": {
          "end_time": "2023-08-16T15:47:47.679861Z",
          "start_time": "2023-08-16T15:47:47.679312Z"
        },
        "colab": {
          "base_uri": "https://localhost:8080/"
        },
        "id": "U6BmwwWvDaAD",
        "outputId": "edff7e06-8636-40a3-bd37-42667aba797b"
      },
      "outputs": [
        {
          "output_type": "execute_result",
          "data": {
            "text/plain": [
              "device(type='cuda')"
            ]
          },
          "metadata": {},
          "execution_count": 7
        }
      ],
      "source": [
        "device"
      ]
    },
    {
      "cell_type": "markdown",
      "metadata": {
        "id": "PTf6GFhFDaAE"
      },
      "source": [
        "Когда агент наблюдает за текущим состоянием среды и выбирает действие, среда переходит в новое состояние, а также возвращает вознаграждение, указывающее на последствия этого действия. В данной задаче награда равна +1 за каждый инкрементный временной шаг, и среда завершается, если шест падает слишком далеко или тележка удаляется от центра более чем на 2,4 единицы. Это означает, что сценарии с лучшими результатами будут выполняться дольше, накапливая большую отдачу.\n",
        "\n",
        "Задача CartPole построена таким образом, что входными данными для агента являются 4 реальных значения, представляющие состояние среды (положение, скорость и т.д.). Мы берем эти 4 входных сигнала без какого-либо масштабирования и пропускаем их через небольшую полносвязную сеть с 2 выходами, по одному на каждое действие. Сеть обучается предсказывать ожидаемое значение для каждого действия с учетом входного состояния. Затем выбирается действие с наибольшим ожидаемым значением.\n",
        "\n",
        "### Replay Memory\n",
        "\n",
        "Для обучения DQN мы будем использовать Replay Memory. В ней хранятся переходы, которые наблюдал агент, что позволяет нам использовать эти данные в дальнейшем. Переходы извлекаются путем случайной выборки, что позволяет избежать корреляции между наблюдениями. Это значительно стабилизирует и улучшает процедуру обучения DQN.\n",
        "\n",
        "Для этого нам понадобятся два класса:\n",
        "\n",
        "`Transition` - именованный кортеж, представляющий один переход в нашем окружении. По сути, он сопоставляет пары (состояние, действие) с их результатом (следующее_состояние, награда), причем состояние - это изображение разницы на экране.\n",
        "\n",
        "`ReplayMemory` - циклический буфер ограниченного размера, в котором хранятся переходы. В нем также реализован метод `.sample()` для выбора случайной выборки переходов для обучения."
      ]
    },
    {
      "cell_type": "code",
      "execution_count": 8,
      "metadata": {
        "ExecuteTime": {
          "end_time": "2023-08-16T19:10:57.755815Z",
          "start_time": "2023-08-16T19:10:57.751055Z"
        },
        "id": "2j_wjiLRDaAE"
      },
      "outputs": [],
      "source": [
        "Transition = namedtuple('Transition', ('state', 'action', 'next_state', 'reward'))"
      ]
    },
    {
      "cell_type": "code",
      "execution_count": 9,
      "metadata": {
        "ExecuteTime": {
          "end_time": "2023-08-16T19:10:58.367208Z",
          "start_time": "2023-08-16T19:10:58.364842Z"
        },
        "id": "0iYWrL98DaAE"
      },
      "outputs": [],
      "source": [
        "class ReplayMemory(object):\n",
        "\n",
        "    def __init__(self, capacity):\n",
        "        self.memory = deque([], maxlen=capacity)\n",
        "\n",
        "    def push(self, *args):\n",
        "        \"\"\"Save a transition\"\"\"\n",
        "        self.memory.append(Transition(*args))\n",
        "\n",
        "    def sample(self, batch_size):\n",
        "        return random.sample(self.memory, batch_size)\n",
        "\n",
        "    def __len__(self):\n",
        "        return len(self.memory)"
      ]
    },
    {
      "cell_type": "markdown",
      "metadata": {
        "id": "GhcE3bdWDaAE"
      },
      "source": [
        "Наша модель будет представлять собой нейронную сеть, которая учитывает разницу между текущим и предыдущим экранами. Она имеет два выхода, представляющих собой $Q(s,left)$ и $Q(s,right)$ (где $s$ - вход сети). По сути, сеть пытается предсказать ожидаемую прибыль от каждого действия с учетом текущих входных данных."
      ]
    },
    {
      "cell_type": "code",
      "execution_count": 10,
      "metadata": {
        "ExecuteTime": {
          "end_time": "2023-08-16T19:11:01.401182Z",
          "start_time": "2023-08-16T19:11:01.399161Z"
        },
        "id": "yT49sFL7DaAE"
      },
      "outputs": [],
      "source": [
        "class DQN(nn.Module):\n",
        "\n",
        "    def __init__(self, n_observations, n_actions):\n",
        "        super(DQN, self).__init__()\n",
        "        self.layer1 = nn.Linear(n_observations, 128)\n",
        "        self.layer2 = nn.Linear(128, 128)\n",
        "        self.layer3 = nn.Linear(128, n_actions)\n",
        "\n",
        "    # Called with either one element to determine next action, or a batch\n",
        "    # during optimization. Returns tensor([[left0exp,right0exp]...]).\n",
        "    def forward(self, x):\n",
        "        x = F.relu(self.layer1(x))\n",
        "        x = F.relu(self.layer2(x))\n",
        "        return self.layer3(x)"
      ]
    },
    {
      "cell_type": "markdown",
      "source": [
        "**Отображение состояния среды, сохранение записи эпизода, просмотр записи эпизода**"
      ],
      "metadata": {
        "id": "04dPdL9eUeUD"
      }
    },
    {
      "cell_type": "code",
      "source": [
        "def display_state(state):\n",
        "    plt.figure(figsize=(8, 6))\n",
        "    plt.imshow(state)\n",
        "    plt.axis('off')\n",
        "\n",
        "\n",
        "def record_episode(eps_frames, records_dir, agent_name, exp_id, eps_num):\n",
        "    record_path = os.path.join(records_dir, f'{agent_name}_{exp_id}_eps-{eps_num}.mp4')\n",
        "    eps_frame_dir = 'episode_frames'\n",
        "    os.mkdir(eps_frame_dir)\n",
        "\n",
        "    for i, frame  in enumerate(eps_frames):\n",
        "        PIL.Image.fromarray(frame).save(os.path.join(eps_frame_dir, f'frame-{i+1}.png'))\n",
        "\n",
        "    os.system(f'ffmpeg -r 16 -i {eps_frame_dir}/frame-%1d.png -vcodec libx264 -b 10M -y \"{record_path}\"');\n",
        "    sh.rmtree(eps_frame_dir)\n",
        "\n",
        "\n",
        "def show_episode_records(records_dir):\n",
        "    record_paths = glob(os.path.join(records_dir, \"*.mp4\"))\n",
        "    html_str = ''\n",
        "    for i, record_path in enumerate(record_paths):\n",
        "        mp4 = open(record_path, 'rb').read()\n",
        "        data = f\"data:video/mp4;base64,{b64encode(mp4).decode()}\"\n",
        "        html_str += f'EPISODE # {i+1}<br><video width=500 controls><source src=\"{data}\" type=\"video/mp4\"></video><br><br>'\n",
        "    return HTML(html_str)\n"
      ],
      "metadata": {
        "id": "ZGfjbNyXUem5"
      },
      "execution_count": 11,
      "outputs": []
    },
    {
      "cell_type": "markdown",
      "source": [
        "**Создание директорий для логирования результатов, сохрание параметров и метрик экспериментов**"
      ],
      "metadata": {
        "id": "UY0EbhkrVBJR"
      }
    },
    {
      "cell_type": "code",
      "source": [
        "def create_exp_dirs(env_dir, exp_params):\n",
        "    dirs = dict()\n",
        "    dirs['exp'] = os.path.join(env_dir, 'experiments', exp_params[\"algorithm_name\"], exp_params[\"exp_id\"])\n",
        "    dirs['training'] = os.path.join(dirs['exp'], 'training')\n",
        "    dirs['evaluation'] = os.path.join(dirs['exp'], 'evaluation')\n",
        "    os.makedirs(dirs['training'], exist_ok=True)\n",
        "    os.makedirs(dirs['evaluation'], exist_ok=True)\n",
        "    return dirs\n",
        "\n",
        "\n",
        "def save_exp_params(params, exp_dir):\n",
        "    params_path = os.path.join(exp_dir, 'experiment_params.json')\n",
        "    with open(params_path, 'w') as f:\n",
        "        json.dump(params, f)\n",
        "\n",
        "\n",
        "def save_metrics(metrics, metrics_type, train_eps_dir):\n",
        "    metrics_path = os.path.join(train_eps_dir, f'{metrics_type}_metrics.json')\n",
        "    with open(metrics_path, 'w') as f:\n",
        "        json.dump(metrics, f)"
      ],
      "metadata": {
        "id": "3DcHPMxhVBWg"
      },
      "execution_count": 12,
      "outputs": []
    },
    {
      "cell_type": "markdown",
      "metadata": {
        "id": "ZnyClfnoDaAE"
      },
      "source": [
        "\n",
        "## Training\n",
        "\n",
        "### Hyperparameters and utilities\n",
        "\n",
        "Далее мы инициализируем модель и ее оптимизатор, а также определяем некоторые утилиты:\n",
        "\n",
        "`select_action` - выбор действия в соответствии с эпсилон-жадной политикой. Проще говоря, иногда мы будем использовать нашу модель для выбора действия, а иногда - просто равномерную выборку. Вероятность выбора случайного действия будет начинаться с `EPS_START` и экспоненциально убывать по направлению к `EPS_END`. `EPS_DECAY` управляет скоростью затухания.\n",
        "\n",
        "`plot_durations` - помощник для построения графика продолжительности эпизодов, а также среднего значения за последние 100 эпизодов (показатель, используемый в оценках). График будет находиться под ячейкой, содержащей основной цикл обучения, и обновляться после каждого эпизода. По умолчанию продолжительность эпизода в CartPole 500 действий. Если обученный агент сможет удержать шест вертикально на протяжении 500 эпизодов - можно считать, что он хорошо обучился."
      ]
    },
    {
      "cell_type": "code",
      "source": [
        "env_name = 'LunarLander-v2'\n",
        "env = gym.make(env_name)\n",
        "print('Пространство наблюдений (состояний): ', env.observation_space.shape)\n",
        "print('Пространство действий:: ', env.action_space.n)"
      ],
      "metadata": {
        "colab": {
          "base_uri": "https://localhost:8080/"
        },
        "id": "wvFW8OhsZzlF",
        "outputId": "a005f84b-39c0-4974-8ded-041f6fd24c11"
      },
      "execution_count": 13,
      "outputs": [
        {
          "output_type": "stream",
          "name": "stdout",
          "text": [
            "Пространство наблюдений (состояний):  (8,)\n",
            "Пространство действий::  4\n"
          ]
        }
      ]
    },
    {
      "cell_type": "code",
      "execution_count": 14,
      "metadata": {
        "ExecuteTime": {
          "end_time": "2023-08-16T19:11:04.810594Z",
          "start_time": "2023-08-16T19:11:04.803012Z"
        },
        "id": "lDf8XizwDaAF"
      },
      "outputs": [],
      "source": [
        "# BATCH_SIZE - количество эпизодов, отобранных из буфера воспроизведения\n",
        "# GAMMA - коэффициент дисконтирования\n",
        "# EPS_START - начальное значение эпсилон\n",
        "# EPS_END - конечное значение эпсилон\n",
        "# EPS_DECAY - скорость экспоненциального спада эпсилон, чем больше - тем медленнее падение\n",
        "# TAU - скорость обновления целевой сети\n",
        "# LR - скорость обучения оптимизатора ``AdamW``.\n",
        "\n",
        "BATCH_SIZE = 128\n",
        "GAMMA = 0.99\n",
        "EPS_START = 0.9\n",
        "EPS_END = 0.05\n",
        "EPS_DECAY = 1000\n",
        "TAU = 0.005\n",
        "LR = 1e-4\n",
        "FULL_MEMORY_LENGTH = 10000\n",
        "\n",
        "# Среда\n",
        "env = gym.make('LunarLander-v2')\n",
        "\n",
        "\n",
        "\n",
        "# Получить число действий\n",
        "n_actions = env.action_space.n\n",
        "# Получить число степеней свободы состояний\n",
        "state, info = env.reset()\n",
        "n_observations = len(state)\n",
        "\n",
        "# Инициилизировать сети: целевую и политики\n",
        "policy_net = DQN(n_observations, n_actions).to(device)\n",
        "target_net = DQN(n_observations, n_actions).to(device)\n",
        "\n",
        "# Подгрузить в целевую сеть коэффициенты из сети политики\n",
        "target_net.load_state_dict(policy_net.state_dict())\n",
        "\n",
        "# Задать оптимайзер\n",
        "optimizer = optim.AdamW(policy_net.parameters(), lr=LR, amsgrad=True)\n",
        "\n",
        "# Инициализировать Replay Memory buffer\n",
        "memory = ReplayMemory(FULL_MEMORY_LENGTH)\n",
        "\n",
        "\n",
        "steps_done = 0\n",
        "\n",
        "#     массив длительности эпизода - пойдет в отчет о том, сколько продержался агент\n",
        "episode_durations = []"
      ]
    },
    {
      "cell_type": "code",
      "execution_count": 15,
      "metadata": {
        "id": "7HA6qHATDaAF"
      },
      "outputs": [],
      "source": [
        "# еpsilon-жадная стратегия выбора действия\n",
        "def select_action(state):\n",
        "    global steps_done  # глобальный шаги для убывания epsilon\n",
        "#     случайное значение для определения какой шаг будем делать жадный или случайный\n",
        "    sample = random.random()\n",
        "\n",
        "#     установка порога принятия решения - уровня epsilon\n",
        "    eps_threshold = EPS_END + (EPS_START - EPS_END) * \\\n",
        "        math.exp(-1. * steps_done / EPS_DECAY)\n",
        "\n",
        "#     увеличиваем счетчик шагов\n",
        "    steps_done += 1\n",
        "\n",
        "#     если случайный порог больше epsilon-порога\n",
        "    if sample > eps_threshold:\n",
        "        with torch.no_grad():\n",
        "            # t.max(1) вернет наибольшее значение столбца в каждой строке.\n",
        "            # Второй столбец в результате max - это индекс того места,\n",
        "            # где был найден максимальный элемент,\n",
        "            # поэтому мы выбираем действие с наибольшим ожидаемым вознаграждением.\n",
        "            return policy_net(state).max(1)[1].view(1, 1)\n",
        "    else:\n",
        "        # Иначы выбираем случайное дайствие\n",
        "        return torch.tensor([[env.action_space.sample()]], device=device, dtype=torch.long)"
      ]
    },
    {
      "cell_type": "markdown",
      "metadata": {
        "id": "VMbAfjKhDaAF"
      },
      "source": [
        "## Training loop\n",
        "\n",
        "Обучение модели.\n",
        "\n",
        "Функция `optimize_model` выполняет один шаг оптимизации. Сначала она производит выборку, конкатенирует все тензоры в один, вычисляет\n",
        "$Q(s_t, a_t)$ и $V(s_{t+1}) = max_aQ(s_{t+1},a)$ и объединяет их в Loss. По определению мы задаем $V(s)=0$, если $s$ является терминальным состоянием. Для повышения устойчивости мы также используем целевую сеть для вычисления $V(s_{t+1})$. Целевая сеть обновляется на каждом шаге с помощью __мягкого обновления__, управляемого гиперпараметром `TAU`.\n",
        "\n",
        "### Мягкое обновление целевой сети\n",
        "\n"
      ]
    },
    {
      "cell_type": "code",
      "execution_count": 16,
      "metadata": {
        "ExecuteTime": {
          "end_time": "2023-08-16T19:11:10.229685Z",
          "start_time": "2023-08-16T19:11:10.205614Z"
        },
        "id": "7AkKCgMSDaAF"
      },
      "outputs": [],
      "source": [
        "def optimize_model(batch_size: int):\n",
        "    if len(memory) < batch_size:\n",
        "        return\n",
        "\n",
        "    # Получить из памяти батч\n",
        "    transitions = memory.sample(batch_size)\n",
        "    # Преобразовать его в namedtuple\n",
        "    batch = Transition(*zip(*transitions))\n",
        "\n",
        "    # Вычислить маску нефинальных состояний и соединить элементы батча\n",
        "    # (финальным состоянием должно быть то, после которого моделирование закончилось)\n",
        "\n",
        "    non_final_mask = torch.tensor(tuple(map(lambda s: s is not None,\n",
        "                                        batch.next_state)), device=device, dtype=torch.bool)\n",
        "\n",
        "    non_final_next_states = torch.cat([s for s in batch.next_state\n",
        "                                                if s is not None])\n",
        "\n",
        "    # Собираем батчи для состояний, действий и наград\n",
        "    state_batch = torch.cat(batch.state)\n",
        "    action_batch = torch.cat(batch.action)\n",
        "    reward_batch = torch.cat(batch.reward)\n",
        "\n",
        "    # Вычислить Q(s_t, a) - модель вычисляет Q(s_t),\n",
        "    # затем мы выбираем столбцы предпринятых действий.\n",
        "    # Это те действия, которые были бы предприняты для каждого состояния партии в соответствии с policy_net\n",
        "    state_action_values = policy_net(state_batch).gather(1, action_batch)\n",
        "\n",
        "    # Вычислить V(s_{t+1}) для всех следующих состояний.\n",
        "    # Ожидаемые значения действий для не_финальных_следующих_состояний вычисляются\n",
        "    # на основе \"старшей\" целевой_сети; выбирается их наилучшее вознаграждение с помощью max(1)[0].\n",
        "    # Это объединяется по маске, так что мы будем иметь либо ожидаемое значение состояния,\n",
        "    # либо 0, если состояние было финальным.\n",
        "    next_state_values = torch.zeros(batch_size, device=device)\n",
        "    with torch.no_grad():\n",
        "        next_state_values[non_final_mask] = target_net(non_final_next_states).max(1)[0]\n",
        "    # Вычисляем ожидаемые Q значения\n",
        "    expected_state_action_values = (next_state_values * GAMMA) + reward_batch\n",
        "\n",
        "    # Объединяем все в общий лосс\n",
        "    criterion = nn.SmoothL1Loss()\n",
        "    loss = criterion(state_action_values, expected_state_action_values.unsqueeze(1))\n",
        "\n",
        "    # Готовим градиент\n",
        "    optimizer.zero_grad()\n",
        "    loss.backward()\n",
        "    # Обрезаем значения градиента - проблемма исчезающего/взрывающего градиента\n",
        "    torch.nn.utils.clip_grad_value_(policy_net.parameters(), 100)\n",
        "\n",
        "    optimizer.step()"
      ]
    },
    {
      "cell_type": "markdown",
      "metadata": {
        "id": "tigMPCsMDaAF"
      },
      "source": [
        "\n",
        "Ниже представлен основной цикл обучения.\n",
        "\n",
        "В начале мы сбрасываем окружение и получаем тензор начального `state`. Затем мы выбираем действие, выполняем его, наблюдаем следующее состояние и вознаграждение (всегда 1) и один раз оптимизируем нашу модель. Когда эпизод заканчивается (модель не работает), мы перезапускаем цикл.\n",
        "\n",
        "\n",
        "`num_episodes` устанавливается равным 1500, если доступен графический процессор, в противном случае планируется 500 эпизодов, чтобы обучение не занимало слишком много времени.\n",
        "\n",
        "Обучение RL-агентов может быть случайным процессом, поэтому перезапуск обучения может дать лучшие результаты, если сходимость не наблюдается."
      ]
    },
    {
      "cell_type": "code",
      "execution_count": 17,
      "metadata": {
        "colab": {
          "base_uri": "https://localhost:8080/"
        },
        "id": "3L9FaVu7DaAF",
        "outputId": "133595d0-5316-4ed2-a832-aa226e9b8a94"
      },
      "outputs": [
        {
          "output_type": "stream",
          "name": "stderr",
          "text": [
            "100%|██████████| 1500/1500 [40:05<00:00,  1.60s/it]"
          ]
        },
        {
          "output_type": "stream",
          "name": "stdout",
          "text": [
            "Complete\n"
          ]
        },
        {
          "output_type": "stream",
          "name": "stderr",
          "text": [
            "\n"
          ]
        }
      ],
      "source": [
        "if torch.cuda.is_available():\n",
        "    num_episodes = 1500\n",
        "else:\n",
        "    num_episodes = 500\n",
        "total_reward = []\n",
        "\n",
        "for i_episode in tqdm(range(num_episodes)):\n",
        "    episode_reward = 0\n",
        "    # Для каждого эпизода инициализируем начальное состояние\n",
        "    state, info = env.reset()\n",
        "    state = torch.tensor(state, dtype=torch.float32, device=device).unsqueeze(0)\n",
        "\n",
        "    # выполняем действия пока не получим флаг done\n",
        "    # t - считает сколько шагов успели сделать пока шест не упал\n",
        "    for t in count():\n",
        "        # выбираем действие [0, 1]\n",
        "        action = select_action(state)\n",
        "        # Делаем шаг\n",
        "        observation, reward, terminated, truncated, _ = env.step(action.item())\n",
        "        episode_reward += reward\n",
        "\n",
        "        # Преобразуем в тензор\n",
        "        reward = torch.tensor([reward], device=device)\n",
        "\n",
        "        # Объединяем done по двум конечным состояниям\n",
        "        done = terminated or truncated\n",
        "\n",
        "        # присваиваем следующее состояние\n",
        "        if terminated:\n",
        "            next_state = None\n",
        "        else:\n",
        "            next_state = torch.tensor(observation, dtype=torch.float32, device=device).unsqueeze(0)\n",
        "\n",
        "        # отправляем в память\n",
        "        memory.push(state, action, next_state, reward)\n",
        "\n",
        "        # переходим на следующее состояние\n",
        "        state = next_state\n",
        "\n",
        "        # запускаем обучение сети\n",
        "        optimize_model(batch_size=128)\n",
        "\n",
        "        # делаем \"мягкое\" обновление весов\n",
        "        # θ′ ← τ θ + (1 −τ )θ′\n",
        "        target_net_state_dict = target_net.state_dict()\n",
        "        policy_net_state_dict = policy_net.state_dict()\n",
        "\n",
        "        for key in policy_net_state_dict:\n",
        "            target_net_state_dict[key] = policy_net_state_dict[key]*TAU + target_net_state_dict[key]*(1-TAU)\n",
        "        target_net.load_state_dict(target_net_state_dict)\n",
        "\n",
        "        # Если получили terminated or truncated завершаем эпизод обучения\n",
        "        if done:\n",
        "            # добавляем в массив продолжительность эпизода\n",
        "            episode_durations.append(t + 1)\n",
        "            total_reward.append(episode_reward)\n",
        "            break\n",
        "\n",
        "print('Complete')\n"
      ]
    },
    {
      "cell_type": "code",
      "execution_count": 18,
      "metadata": {
        "colab": {
          "base_uri": "https://localhost:8080/",
          "height": 472
        },
        "id": "dfkPWKkxDaAG",
        "outputId": "af1e3244-2eae-41bd-f9ed-95b704c4b5c2"
      },
      "outputs": [
        {
          "output_type": "display_data",
          "data": {
            "text/plain": [
              "<Figure size 640x480 with 1 Axes>"
            ],
            "image/png": "[encoded data removed]"
          },
          "metadata": {}
        }
      ],
      "source": [
        "# Вычисление скользящего среднего\n",
        "window_size = 100\n",
        "moving_avg = np.convolve(total_reward, np.ones(window_size)/window_size, mode='valid')\n",
        "plt.plot(moving_avg)\n",
        "plt.title('DQN + ReplayBuffer')\n",
        "plt.xlabel('Episode')\n",
        "plt.ylabel('Reward')\n",
        "plt.show()"
      ]
    },
    {
      "cell_type": "code",
      "execution_count": null,
      "metadata": {
        "id": "WLRKsxsODaAG"
      },
      "outputs": [],
      "source": []
    }
  ],
  "metadata": {
    "kernelspec": {
      "display_name": "Python 3",
      "name": "python3"
    },
    "language_info": {
      "codemirror_mode": {
        "name": "ipython",
        "version": 3
      },
      "file_extension": ".py",
      "mimetype": "text/x-python",
      "name": "python",
      "nbconvert_exporter": "python",
      "pygments_lexer": "ipython3",
      "version": "3.8.8"
    },
    "toc": {
      "base_numbering": 1,
      "nav_menu": {},
      "number_sections": true,
      "sideBar": true,
      "skip_h1_title": false,
      "title_cell": "Table of Contents",
      "title_sidebar": "Contents",
      "toc_cell": false,
      "toc_position": {},
      "toc_section_display": true,
      "toc_window_display": false
    },
    "colab": {
      "provenance": [],
      "gpuType": "T4",
      "include_colab_link": true
    },
    "accelerator": "GPU"
  },
  "nbformat": 4,
  "nbformat_minor": 0
}